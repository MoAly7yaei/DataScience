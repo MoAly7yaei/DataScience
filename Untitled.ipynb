{
 "cells": [
  {
   "cell_type": "code",
   "execution_count": null,
   "id": "ebc784ca",
   "metadata": {},
   "outputs": [],
   "source": [
    "import pandas as pd\n",
    "import seaborn as sns"
   ]
  },
  {
   "cell_type": "code",
   "execution_count": null,
   "id": "acde3ad4",
   "metadata": {},
   "outputs": [],
   "source": [
    "home_data = pd.read_csv('data/housing.csv', usecols = ['longitude', 'latitude', 'median_house_value'])\n",
    "home_data.head()"
   ]
  },
  {
   "cell_type": "code",
   "execution_count": null,
   "id": "f0c5412b",
   "metadata": {},
   "outputs": [],
   "source": [
    "sns.scatterplot(data = home_data, x = 'longitude', y = 'latitude', hue = 'median_house_value')"
   ]
  },
  {
   "cell_type": "code",
   "execution_count": null,
   "id": "1dcaec5d",
   "metadata": {},
   "outputs": [],
   "source": [
    "from sklearn.model_selection import train_test_split\n",
    "\n",
    "X_train, X_test, y_train, y_test = train_test_split(home_data[['latitude', 'longitude']], home_data[['median_house_value']], test_size=0.33, random_state=0)"
   ]
  },
  {
   "cell_type": "code",
   "execution_count": null,
   "id": "4cec2a56",
   "metadata": {},
   "outputs": [],
   "source": [
    "from sklearn import preprocessing\n",
    "\n",
    "X_train_norm = preprocessing.normalize(X_train)\n",
    "X_test_norm = preprocessing.normalize(X_test)"
   ]
  },
  {
   "cell_type": "code",
   "execution_count": null,
   "id": "183a0573",
   "metadata": {},
   "outputs": [],
   "source": [
    "from sklearn.cluster import KMeans\n",
    "\n",
    "kmeans = KMeans(n_clusters = 3, random_state = 0, n_init='auto')\n",
    "kmeans.fit(X_train_norm)"
   ]
  },
  {
   "cell_type": "code",
   "execution_count": null,
   "id": "78cb2a12",
   "metadata": {},
   "outputs": [],
   "source": [
    "sns.scatterplot(data = X_train, x = 'longitude', y = 'latitude', hue = kmeans.labels_)"
   ]
  },
  {
   "cell_type": "code",
   "execution_count": null,
   "id": "6b90878d",
   "metadata": {},
   "outputs": [],
   "source": [
    "sns.boxplot(x = kmeans.labels_, y = y_train['median_house_value'])"
   ]
  },
  {
   "cell_type": "code",
   "execution_count": null,
   "id": "3013c46a",
   "metadata": {},
   "outputs": [],
   "source": [
    "from sklearn.metrics import silhouette_score\n",
    "\n",
    "silhouette_score(X_train_norm, kmeans.labels_, metric='euclidean')"
   ]
  },
  {
   "cell_type": "code",
   "execution_count": null,
   "id": "76c1922a",
   "metadata": {},
   "outputs": [],
   "source": [
    "K = range(2, 8)\n",
    "fits = []\n",
    "score = []\n",
    "\n",
    "\n",
    "for k in K:\n",
    "    # train the model for current value of k on training data\n",
    "    model = KMeans(n_clusters = k, random_state = 0, n_init='auto').fit(X_train_norm)\n",
    "    \n",
    "    # append the model to fits\n",
    "    fits.append(model)\n",
    "    \n",
    "    # Append the silhouette score to scores\n",
    "    score.append(silhouette_score(X_train_norm, model.labels_, metric='euclidean'))"
   ]
  },
  {
   "cell_type": "code",
   "execution_count": null,
   "id": "4fff0980",
   "metadata": {},
   "outputs": [],
   "source": [
    "sns.scatterplot(data = X_train, x = 'longitude', y = 'latitude', hue = fits[0].labels_)\n",
    "\n",
    "\n"
   ]
  },
  {
   "cell_type": "code",
   "execution_count": null,
   "id": "a6b00420",
   "metadata": {},
   "outputs": [],
   "source": [
    "sns.scatterplot(data = X_train, x = 'longitude', y = 'latitude', hue = fits[2].labels_)\n",
    "\n"
   ]
  },
  {
   "cell_type": "code",
   "execution_count": null,
   "id": "30512d16",
   "metadata": {},
   "outputs": [],
   "source": [
    "sns.scatterplot(data = X_train, x = 'longitude', y = 'latitude', hue = fits[4].labels_)\n"
   ]
  },
  {
   "cell_type": "code",
   "execution_count": null,
   "id": "185b01e8",
   "metadata": {},
   "outputs": [],
   "source": [
    "sns.lineplot(x = K, y = score)"
   ]
  },
  {
   "cell_type": "code",
   "execution_count": null,
   "id": "736550a2",
   "metadata": {},
   "outputs": [],
   "source": [
    "sns.scatterplot(data = X_train, x = 'longitude', y = 'latitude', hue = fits[3].labels_)"
   ]
  },
  {
   "cell_type": "code",
   "execution_count": null,
   "id": "845647ec",
   "metadata": {},
   "outputs": [],
   "source": [
    "sns.boxplot(x = fits[3].labels_, y = y_train['median_house_value'])"
   ]
  },
  {
   "cell_type": "code",
   "execution_count": null,
   "id": "6f177ef1",
   "metadata": {},
   "outputs": [],
   "source": []
  }
 ],
 "metadata": {
  "kernelspec": {
   "display_name": "Python 3 (ipykernel)",
   "language": "python",
   "name": "python3"
  },
  "language_info": {
   "codemirror_mode": {
    "name": "ipython",
    "version": 3
   },
   "file_extension": ".py",
   "mimetype": "text/x-python",
   "name": "python",
   "nbconvert_exporter": "python",
   "pygments_lexer": "ipython3",
   "version": "3.10.9"
  }
 },
 "nbformat": 4,
 "nbformat_minor": 5
}
