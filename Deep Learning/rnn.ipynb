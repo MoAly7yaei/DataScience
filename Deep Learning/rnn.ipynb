{
 "cells": [
  {
   "cell_type": "code",
   "execution_count": 18,
   "metadata": {},
   "outputs": [],
   "source": [
    "import tensorflow as tf \n"
   ]
  },
  {
   "cell_type": "code",
   "execution_count": 4,
   "metadata": {},
   "outputs": [],
   "source": [
    "X = tf.random.uniform(shape = [100,20,5])"
   ]
  },
  {
   "cell_type": "code",
   "execution_count": 5,
   "metadata": {},
   "outputs": [
    {
     "data": {
      "text/plain": [
       "TensorShape([100, 20, 5])"
      ]
     },
     "execution_count": 5,
     "metadata": {},
     "output_type": "execute_result"
    }
   ],
   "source": [
    "X.shape"
   ]
  },
  {
   "cell_type": "code",
   "execution_count": 10,
   "metadata": {},
   "outputs": [
    {
     "data": {
      "text/plain": [
       "TensorShape([50, 20, 5])"
      ]
     },
     "execution_count": 10,
     "metadata": {},
     "output_type": "execute_result"
    }
   ],
   "source": [
    "tf.TensorShape([50, 20, 5])"
   ]
  },
  {
   "cell_type": "code",
   "execution_count": 11,
   "metadata": {},
   "outputs": [],
   "source": [
    "rnn = tf.keras.layers.SimpleRNN(64)"
   ]
  },
  {
   "cell_type": "code",
   "execution_count": 14,
   "metadata": {},
   "outputs": [
    {
     "data": {
      "text/plain": [
       "<tf.Tensor: shape=(100, 64), dtype=float32, numpy=\n",
       "array([[-1.48054093e-01,  7.83578634e-01, -1.93196058e-01, ...,\n",
       "        -3.06839347e-01, -8.89704227e-02,  6.16876334e-02],\n",
       "       [-1.78487189e-02,  7.54920661e-01, -4.56121862e-01, ...,\n",
       "         1.99880004e-01,  2.62307543e-02,  2.17865050e-01],\n",
       "       [ 1.99885458e-01,  6.39974535e-01,  6.25424907e-02, ...,\n",
       "        -5.71994297e-02, -3.18325609e-01,  1.24407075e-01],\n",
       "       ...,\n",
       "       [-2.61716209e-02,  8.45492899e-01, -2.10353076e-01, ...,\n",
       "         8.54622573e-02, -4.87301312e-02, -5.23867846e-01],\n",
       "       [-4.82033134e-01,  5.80254853e-01, -4.49665844e-01, ...,\n",
       "         5.96214607e-02,  7.95722008e-05,  2.35007167e-01],\n",
       "       [ 7.59891346e-02,  7.45404601e-01, -1.64982989e-01, ...,\n",
       "         1.29548937e-01, -4.37099189e-01,  3.08849305e-01]], dtype=float32)>"
      ]
     },
     "execution_count": 14,
     "metadata": {},
     "output_type": "execute_result"
    }
   ],
   "source": [
    "out = rnn(X)\n",
    "out"
   ]
  },
  {
   "cell_type": "code",
   "execution_count": 15,
   "metadata": {},
   "outputs": [
    {
     "data": {
      "text/plain": [
       "(TensorShape([5, 64]), TensorShape([64, 64]), TensorShape([64]))"
      ]
     },
     "execution_count": 15,
     "metadata": {},
     "output_type": "execute_result"
    }
   ],
   "source": [
    "rnn.weights[0].shape, rnn.weights[1].shape, rnn.weights[2].shape "
   ]
  },
  {
   "cell_type": "code",
   "execution_count": 16,
   "metadata": {},
   "outputs": [
    {
     "ename": "NameError",
     "evalue": "name 'TensorShape' is not defined",
     "output_type": "error",
     "traceback": [
      "\u001b[0;31m---------------------------------------------------------------------------\u001b[0m",
      "\u001b[0;31mNameError\u001b[0m                                 Traceback (most recent call last)",
      "Cell \u001b[0;32mIn[16], line 1\u001b[0m\n\u001b[0;32m----> 1\u001b[0m (TensorShape([\u001b[39m5\u001b[39m, \u001b[39m64\u001b[39m]), TensorShape([\u001b[39m64\u001b[39m, \u001b[39m64\u001b[39m]), TensorShape([\u001b[39m64\u001b[39m]))\n",
      "\u001b[0;31mNameError\u001b[0m: name 'TensorShape' is not defined"
     ]
    }
   ],
   "source": []
  },
  {
   "cell_type": "code",
   "execution_count": null,
   "metadata": {},
   "outputs": [],
   "source": []
  }
 ],
 "metadata": {
  "kernelspec": {
   "display_name": "base",
   "language": "python",
   "name": "python3"
  },
  "language_info": {
   "codemirror_mode": {
    "name": "ipython",
    "version": 3
   },
   "file_extension": ".py",
   "mimetype": "text/x-python",
   "name": "python",
   "nbconvert_exporter": "python",
   "pygments_lexer": "ipython3",
   "version": "3.11.3"
  },
  "orig_nbformat": 4
 },
 "nbformat": 4,
 "nbformat_minor": 2
}
